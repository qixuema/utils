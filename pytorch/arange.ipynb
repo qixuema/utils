{
 "cells": [
  {
   "cell_type": "code",
   "execution_count": 1,
   "metadata": {},
   "outputs": [],
   "source": [
    "import torch\n",
    "import math"
   ]
  },
  {
   "cell_type": "code",
   "execution_count": 4,
   "metadata": {},
   "outputs": [
    {
     "name": "stdout",
     "output_type": "stream",
     "text": [
      "tensor([  0,   2,   4,   6,   8,  10,  12,  14,  16,  18,  20,  22,  24,  26,\n",
      "         28,  30,  32,  34,  36,  38,  40,  42,  44,  46,  48,  50,  52,  54,\n",
      "         56,  58,  60,  62,  64,  66,  68,  70,  72,  74,  76,  78,  80,  82,\n",
      "         84,  86,  88,  90,  92,  94,  96,  98, 100, 102, 104, 106, 108, 110,\n",
      "        112, 114, 116, 118, 120, 122, 124, 126])\n"
     ]
    }
   ],
   "source": [
    "emb = torch.arange(0, 128, step=2)\n",
    "print(emb)"
   ]
  },
  {
   "cell_type": "code",
   "execution_count": 5,
   "metadata": {},
   "outputs": [
    {
     "name": "stdout",
     "output_type": "stream",
     "text": [
      "tensor([0.0000, 0.0156, 0.0312, 0.0469, 0.0625, 0.0781, 0.0938, 0.1094, 0.1250,\n",
      "        0.1406, 0.1562, 0.1719, 0.1875, 0.2031, 0.2188, 0.2344, 0.2500, 0.2656,\n",
      "        0.2812, 0.2969, 0.3125, 0.3281, 0.3438, 0.3594, 0.3750, 0.3906, 0.4062,\n",
      "        0.4219, 0.4375, 0.4531, 0.4688, 0.4844, 0.5000, 0.5156, 0.5312, 0.5469,\n",
      "        0.5625, 0.5781, 0.5938, 0.6094, 0.6250, 0.6406, 0.6562, 0.6719, 0.6875,\n",
      "        0.7031, 0.7188, 0.7344, 0.7500, 0.7656, 0.7812, 0.7969, 0.8125, 0.8281,\n",
      "        0.8438, 0.8594, 0.8750, 0.8906, 0.9062, 0.9219, 0.9375, 0.9531, 0.9688,\n",
      "        0.9844])\n"
     ]
    }
   ],
   "source": [
    "emb = emb / 128\n",
    "print(emb)"
   ]
  },
  {
   "cell_type": "code",
   "execution_count": 6,
   "metadata": {},
   "outputs": [
    {
     "name": "stdout",
     "output_type": "stream",
     "text": [
      "tensor([0.0000, 0.1439, 0.2878, 0.4317, 0.5756, 0.7196, 0.8635, 1.0074, 1.1513,\n",
      "        1.2952, 1.4391, 1.5830, 1.7269, 1.8709, 2.0148, 2.1587, 2.3026, 2.4465,\n",
      "        2.5904, 2.7343, 2.8782, 3.0221, 3.1661, 3.3100, 3.4539, 3.5978, 3.7417,\n",
      "        3.8856, 4.0295, 4.1734, 4.3173, 4.4613, 4.6052, 4.7491, 4.8930, 5.0369,\n",
      "        5.1808, 5.3247, 5.4686, 5.6126, 5.7565, 5.9004, 6.0443, 6.1882, 6.3321,\n",
      "        6.4760, 6.6199, 6.7638, 6.9078, 7.0517, 7.1956, 7.3395, 7.4834, 7.6273,\n",
      "        7.7712, 7.9151, 8.0590, 8.2030, 8.3469, 8.4908, 8.6347, 8.7786, 8.9225,\n",
      "        9.0664])\n"
     ]
    }
   ],
   "source": [
    "emb = emb * math.log(10000)\n",
    "print(emb)"
   ]
  },
  {
   "cell_type": "code",
   "execution_count": 8,
   "metadata": {},
   "outputs": [
    {
     "name": "stdout",
     "output_type": "stream",
     "text": [
      "9.210340371976184\n"
     ]
    }
   ],
   "source": [
    "mm = math.log(10000)\n",
    "print(mm)"
   ]
  },
  {
   "cell_type": "code",
   "execution_count": 9,
   "metadata": {},
   "outputs": [
    {
     "data": {
      "text/plain": [
       "tensor([0.0000, 0.1439, 0.2878, 0.4317, 0.5756, 0.7196, 0.8635, 1.0074, 1.1513,\n",
       "        1.2952, 1.4391, 1.5830, 1.7269, 1.8709, 2.0148, 2.1587, 2.3026, 2.4465,\n",
       "        2.5904, 2.7343, 2.8782, 3.0221, 3.1661, 3.3100, 3.4539, 3.5978, 3.7417,\n",
       "        3.8856, 4.0295, 4.1734, 4.3173, 4.4613, 4.6052, 4.7491, 4.8930, 5.0369,\n",
       "        5.1808, 5.3247, 5.4686, 5.6126, 5.7565, 5.9004, 6.0443, 6.1882, 6.3321,\n",
       "        6.4760, 6.6199, 6.7638, 6.9078, 7.0517, 7.1956, 7.3395, 7.4834, 7.6273,\n",
       "        7.7712, 7.9151, 8.0590, 8.2030, 8.3469, 8.4908, 8.6347, 8.7786, 8.9225,\n",
       "        9.0664])"
      ]
     },
     "execution_count": 9,
     "metadata": {},
     "output_type": "execute_result"
    }
   ],
   "source": [
    "emb"
   ]
  },
  {
   "cell_type": "code",
   "execution_count": 13,
   "metadata": {},
   "outputs": [
    {
     "data": {
      "text/plain": [
       "torch.Size([1, 64])"
      ]
     },
     "execution_count": 13,
     "metadata": {},
     "output_type": "execute_result"
    }
   ],
   "source": [
    "emb[None,:].size()"
   ]
  },
  {
   "cell_type": "code",
   "execution_count": 12,
   "metadata": {},
   "outputs": [
    {
     "data": {
      "text/plain": [
       "torch.Size([64])"
      ]
     },
     "execution_count": 12,
     "metadata": {},
     "output_type": "execute_result"
    }
   ],
   "source": [
    "emb.size()"
   ]
  },
  {
   "cell_type": "code",
   "execution_count": 14,
   "metadata": {},
   "outputs": [
    {
     "name": "stdout",
     "output_type": "stream",
     "text": [
      "tensor([[ 1.4561, -0.4390, -0.4868,  0.7989],\n",
      "        [-0.1961,  0.8032, -0.7547,  0.1078],\n",
      "        [ 0.2671, -0.8970,  1.0189,  1.2110]])\n",
      "tensor([[-1.9422,  1.4750, -1.5583, -0.3961],\n",
      "        [ 0.8543,  0.6715,  0.3265,  0.3241],\n",
      "        [ 0.5794, -0.4229,  0.0770,  1.0668]])\n",
      "tensor([[[ 1.4561, -1.9422],\n",
      "         [-0.4390,  1.4750],\n",
      "         [-0.4868, -1.5583],\n",
      "         [ 0.7989, -0.3961]],\n",
      "\n",
      "        [[-0.1961,  0.8543],\n",
      "         [ 0.8032,  0.6715],\n",
      "         [-0.7547,  0.3265],\n",
      "         [ 0.1078,  0.3241]],\n",
      "\n",
      "        [[ 0.2671,  0.5794],\n",
      "         [-0.8970, -0.4229],\n",
      "         [ 1.0189,  0.0770],\n",
      "         [ 1.2110,  1.0668]]])\n"
     ]
    }
   ],
   "source": [
    "rec_1 = torch.randn([3,4])\n",
    "print(rec_1)\n",
    "rec_2 = torch.randn([3,4])\n",
    "print(rec_2)\n",
    "rec_3 = torch.stack([rec_1, rec_2], dim=-1)\n",
    "print(rec_3)"
   ]
  },
  {
   "cell_type": "code",
   "execution_count": 16,
   "metadata": {},
   "outputs": [
    {
     "name": "stdout",
     "output_type": "stream",
     "text": [
      "tensor([[ 1.4561, -1.9422, -0.4390,  1.4750, -0.4868, -1.5583,  0.7989, -0.3961],\n",
      "        [-0.1961,  0.8543,  0.8032,  0.6715, -0.7547,  0.3265,  0.1078,  0.3241],\n",
      "        [ 0.2671,  0.5794, -0.8970, -0.4229,  1.0189,  0.0770,  1.2110,  1.0668]])\n"
     ]
    }
   ],
   "source": [
    "rec_4 = rec_3.view(3, 8)\n",
    "print(rec_4)"
   ]
  },
  {
   "cell_type": "code",
   "execution_count": null,
   "metadata": {},
   "outputs": [],
   "source": []
  }
 ],
 "metadata": {
  "kernelspec": {
   "display_name": "Python 3.7.13 ('ma')",
   "language": "python",
   "name": "python3"
  },
  "language_info": {
   "codemirror_mode": {
    "name": "ipython",
    "version": 3
   },
   "file_extension": ".py",
   "mimetype": "text/x-python",
   "name": "python",
   "nbconvert_exporter": "python",
   "pygments_lexer": "ipython3",
   "version": "3.7.13"
  },
  "orig_nbformat": 4,
  "vscode": {
   "interpreter": {
    "hash": "dddda052fc84d0ec959437bc34cb8da7e61558825bfbf38c798e858e2fbeb909"
   }
  }
 },
 "nbformat": 4,
 "nbformat_minor": 2
}
