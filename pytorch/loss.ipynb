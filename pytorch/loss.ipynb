{
 "cells": [
  {
   "cell_type": "code",
   "execution_count": 1,
   "metadata": {},
   "outputs": [],
   "source": [
    "import torch\n",
    "import torch.nn as nn"
   ]
  },
  {
   "cell_type": "code",
   "execution_count": 38,
   "metadata": {},
   "outputs": [
    {
     "name": "stdout",
     "output_type": "stream",
     "text": [
      "tensor([[[0],\n",
      "         [0],\n",
      "         [0],\n",
      "         [0]],\n",
      "\n",
      "        [[0],\n",
      "         [1],\n",
      "         [0],\n",
      "         [0]],\n",
      "\n",
      "        [[0],\n",
      "         [1],\n",
      "         [1],\n",
      "         [1]]])\n"
     ]
    }
   ],
   "source": [
    "target = torch.randint(2, (3,4,1))\n",
    "print(target)"
   ]
  },
  {
   "cell_type": "code",
   "execution_count": 33,
   "metadata": {},
   "outputs": [
    {
     "name": "stdout",
     "output_type": "stream",
     "text": [
      "tensor([[[0.1736],\n",
      "         [0.2487],\n",
      "         [0.7978],\n",
      "         [0.8876]],\n",
      "\n",
      "        [[0.4897],\n",
      "         [0.2978],\n",
      "         [0.4485],\n",
      "         [0.9680]],\n",
      "\n",
      "        [[0.5281],\n",
      "         [0.0368],\n",
      "         [0.8819],\n",
      "         [0.5093]]])\n"
     ]
    }
   ],
   "source": [
    "input =  torch.rand(3,4,1)\n",
    "print(input)"
   ]
  },
  {
   "cell_type": "code",
   "execution_count": 9,
   "metadata": {},
   "outputs": [],
   "source": [
    "from torch import distributions as dist"
   ]
  },
  {
   "cell_type": "code",
   "execution_count": 34,
   "metadata": {},
   "outputs": [],
   "source": [
    "input_bnl = dist.Bernoulli(probs=input)"
   ]
  },
  {
   "cell_type": "code",
   "execution_count": 35,
   "metadata": {},
   "outputs": [
    {
     "data": {
      "text/plain": [
       "tensor([[[0.1736],\n",
       "         [0.2487],\n",
       "         [0.7978],\n",
       "         [0.8876]],\n",
       "\n",
       "        [[0.4897],\n",
       "         [0.2978],\n",
       "         [0.4485],\n",
       "         [0.9680]],\n",
       "\n",
       "        [[0.5281],\n",
       "         [0.0368],\n",
       "         [0.8819],\n",
       "         [0.5093]]])"
      ]
     },
     "execution_count": 35,
     "metadata": {},
     "output_type": "execute_result"
    }
   ],
   "source": [
    "input_bnl.probs"
   ]
  },
  {
   "cell_type": "code",
   "execution_count": 36,
   "metadata": {},
   "outputs": [
    {
     "data": {
      "text/plain": [
       "tensor([[[-1.5604],\n",
       "         [-1.1058],\n",
       "         [ 1.3724],\n",
       "         [ 2.0665]],\n",
       "\n",
       "        [[-0.0414],\n",
       "         [-0.8577],\n",
       "         [-0.2065],\n",
       "         [ 3.4093]],\n",
       "\n",
       "        [[ 0.1125],\n",
       "         [-3.2636],\n",
       "         [ 2.0108],\n",
       "         [ 0.0370]]])"
      ]
     },
     "execution_count": 36,
     "metadata": {},
     "output_type": "execute_result"
    }
   ],
   "source": [
    "input_bnl.logits"
   ]
  },
  {
   "cell_type": "code",
   "execution_count": 15,
   "metadata": {},
   "outputs": [],
   "source": [
    "import torch.nn.functional as F"
   ]
  },
  {
   "cell_type": "code",
   "execution_count": 39,
   "metadata": {},
   "outputs": [
    {
     "name": "stdout",
     "output_type": "stream",
     "text": [
      "tensor([[[0.1907],\n",
      "         [0.2859],\n",
      "         [1.5984],\n",
      "         [2.1857]],\n",
      "\n",
      "        [[0.6727],\n",
      "         [1.2113],\n",
      "         [0.5952],\n",
      "         [3.4418]],\n",
      "\n",
      "        [[0.7510],\n",
      "         [3.3012],\n",
      "         [0.1256],\n",
      "         [0.6748]]])\n"
     ]
    }
   ],
   "source": [
    "loss = F.binary_cross_entropy_with_logits(input_bnl.logits, target.float(), reduction='none')\n",
    "print(loss)"
   ]
  },
  {
   "cell_type": "code",
   "execution_count": 40,
   "metadata": {},
   "outputs": [
    {
     "name": "stdout",
     "output_type": "stream",
     "text": [
      "tensor([[0.1907, 0.2859, 1.5984, 2.1857],\n",
      "        [0.6727, 1.2113, 0.5952, 3.4418],\n",
      "        [0.7510, 3.3012, 0.1256, 0.6748]])\n",
      "tensor(1.2529)\n"
     ]
    }
   ],
   "source": [
    "loss_sum =  loss.sum(-1)\n",
    "print(loss_sum)\n",
    "loss_mean = loss_sum.mean()\n",
    "print(loss_mean)"
   ]
  },
  {
   "cell_type": "code",
   "execution_count": 41,
   "metadata": {},
   "outputs": [
    {
     "name": "stdout",
     "output_type": "stream",
     "text": [
      "tensor(1.2529)\n"
     ]
    }
   ],
   "source": [
    "loss_avg = loss.mean()\n",
    "print(loss_avg)"
   ]
  },
  {
   "cell_type": "code",
   "execution_count": 27,
   "metadata": {},
   "outputs": [
    {
     "data": {
      "text/plain": [
       "tensor(0.5333)"
      ]
     },
     "execution_count": 27,
     "metadata": {},
     "output_type": "execute_result"
    }
   ],
   "source": [
    "torch.mean(target*(input_bnl.probs > 0.5).float() + (1-target)*(input_bnl.probs<=0.5).float())"
   ]
  },
  {
   "cell_type": "code",
   "execution_count": 26,
   "metadata": {},
   "outputs": [
    {
     "name": "stdout",
     "output_type": "stream",
     "text": [
      "tensor([[[0., 0., 0., 1., 0.],\n",
      "         [0., 0., 0., 0., 0.],\n",
      "         [0., 1., 0., 0., 0.],\n",
      "         [0., 0., 0., 1., 0.]],\n",
      "\n",
      "        [[0., 0., 0., 0., 1.],\n",
      "         [1., 0., 0., 0., 0.],\n",
      "         [0., 0., 1., 0., 0.],\n",
      "         [0., 0., 0., 0., 0.]],\n",
      "\n",
      "        [[0., 1., 0., 1., 0.],\n",
      "         [0., 0., 0., 0., 1.],\n",
      "         [0., 0., 0., 0., 1.],\n",
      "         [0., 0., 1., 0., 1.]]])\n",
      "torch.Size([3, 4, 5])\n"
     ]
    }
   ],
   "source": [
    "a1 = target*(input_bnl.probs > 0.5).float()\n",
    "print(a1)\n",
    "print(a1.shape)"
   ]
  },
  {
   "cell_type": "code",
   "execution_count": 42,
   "metadata": {},
   "outputs": [
    {
     "name": "stdout",
     "output_type": "stream",
     "text": [
      "tensor(1.2529)\n"
     ]
    }
   ],
   "source": [
    "stand_bce = - torch.mean(target*torch.log(input_bnl.probs.float()) + (1-target)*torch.log(1-input_bnl.probs.float()))\n",
    "print(stand_bce)"
   ]
  },
  {
   "cell_type": "code",
   "execution_count": null,
   "metadata": {},
   "outputs": [],
   "source": []
  }
 ],
 "metadata": {
  "kernelspec": {
   "display_name": "Python 3.7.0 ('ma')",
   "language": "python",
   "name": "python3"
  },
  "language_info": {
   "codemirror_mode": {
    "name": "ipython",
    "version": 3
   },
   "file_extension": ".py",
   "mimetype": "text/x-python",
   "name": "python",
   "nbconvert_exporter": "python",
   "pygments_lexer": "ipython3",
   "version": "3.7.0"
  },
  "orig_nbformat": 4,
  "vscode": {
   "interpreter": {
    "hash": "726f61da280e222e219e726f061d5e60f77261e29abc9c75fced1365e0fa4de8"
   }
  }
 },
 "nbformat": 4,
 "nbformat_minor": 2
}
