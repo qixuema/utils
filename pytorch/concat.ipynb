{
 "cells": [
  {
   "cell_type": "code",
   "execution_count": 1,
   "metadata": {},
   "outputs": [],
   "source": [
    "import numpy as np"
   ]
  },
  {
   "cell_type": "code",
   "execution_count": 6,
   "metadata": {},
   "outputs": [],
   "source": [
    "def makeGrid(bb_min=[0,0,0], bb_max=[1,1,1], shape=[10,10,10], \n",
    "    mode='on', flatten=True, indexing=\"ij\"):\n",
    "    \"\"\" Make a grid of coordinates\n",
    "\n",
    "    Args:\n",
    "    bb_min (list or np.array): least coordinate for each dimension\n",
    "    bb_max (list or np.array): maximum coordinate for each dimension\n",
    "    shape (list or int): list of coordinate number along each dimension. If it is an int, the number\n",
    "                same for all dimensions\n",
    "    mode (str, optional): 'on' to have vertices lying on the boundary and \n",
    "                'in' for keeping vertices and its cell inside of the boundary\n",
    "                same as align_corners=True and align_corners=False\n",
    "    flatten (bool, optional): Return as list of points or as a grid. Defaults to True.\n",
    "    indexing ([\"ij\" or \"xy\"]): default to \"xy\", see https://numpy.org/doc/stable/reference/generated/numpy.meshgrid.html\n",
    "\n",
    "    Returns:\n",
    "    np.array: return coordinates (XxYxZxD if flatten==False, X*Y*ZxD if flatten==True.\n",
    "    \"\"\"\n",
    "    coords=[]\n",
    "    bb_min = np.array(bb_min)\n",
    "    bb_max = np.array(bb_max)\n",
    "    if type(shape) is int:\n",
    "        shape = np.array([shape]*bb_min.shape[0])\n",
    "    for i, si in enumerate(shape):\n",
    "        if mode=='on':\n",
    "            coord = np.linspace(bb_min[i], bb_max[i], si)\n",
    "        elif mode=='in':\n",
    "            offset = (bb_max[i]-bb_min[i])/2./si\n",
    "            # 2*si*w=bmax-bmin\n",
    "            # w = (bmax-bmin)/2/si\n",
    "            # start, end = bmax+w, bmin-w\n",
    "            coord = np.linspace(bb_min[i]+offset,bb_max[i]-offset, si)\n",
    "        coords.append( coord )\n",
    "    grid = np.stack(np.meshgrid(*coords,sparse=False, indexing=indexing), axis=-1)\n",
    "    \n",
    "    if flatten==True:\n",
    "        grid = grid.reshape(-1,grid.shape[-1])\n",
    "    return grid"
   ]
  },
  {
   "cell_type": "code",
   "execution_count": 7,
   "metadata": {},
   "outputs": [
    {
     "name": "stdout",
     "output_type": "stream",
     "text": [
      "[[0.  0.  0. ]\n",
      " [0.  0.  0.5]\n",
      " [0.  0.  1. ]\n",
      " [0.  0.5 0. ]\n",
      " [0.  0.5 0.5]\n",
      " [0.  0.5 1. ]\n",
      " [0.  1.  0. ]\n",
      " [0.  1.  0.5]\n",
      " [0.  1.  1. ]\n",
      " [0.5 0.  0. ]\n",
      " [0.5 0.  0.5]\n",
      " [0.5 0.  1. ]\n",
      " [0.5 0.5 0. ]\n",
      " [0.5 0.5 0.5]\n",
      " [0.5 0.5 1. ]\n",
      " [0.5 1.  0. ]\n",
      " [0.5 1.  0.5]\n",
      " [0.5 1.  1. ]\n",
      " [1.  0.  0. ]\n",
      " [1.  0.  0.5]\n",
      " [1.  0.  1. ]\n",
      " [1.  0.5 0. ]\n",
      " [1.  0.5 0.5]\n",
      " [1.  0.5 1. ]\n",
      " [1.  1.  0. ]\n",
      " [1.  1.  0.5]\n",
      " [1.  1.  1. ]]\n"
     ]
    }
   ],
   "source": [
    "my_grid =  makeGrid(shape=[3,3,3])\n",
    "print(my_grid)"
   ]
  },
  {
   "cell_type": "code",
   "execution_count": 5,
   "metadata": {},
   "outputs": [
    {
     "data": {
      "text/plain": [
       "(3, 1)"
      ]
     },
     "execution_count": 5,
     "metadata": {},
     "output_type": "execute_result"
    }
   ],
   "source": [
    "my_grid.shape"
   ]
  },
  {
   "cell_type": "code",
   "execution_count": null,
   "metadata": {},
   "outputs": [],
   "source": [
    "def nodes():\n",
    "    "
   ]
  }
 ],
 "metadata": {
  "kernelspec": {
   "display_name": "Python 3.7.0 ('ma')",
   "language": "python",
   "name": "python3"
  },
  "language_info": {
   "codemirror_mode": {
    "name": "ipython",
    "version": 3
   },
   "file_extension": ".py",
   "mimetype": "text/x-python",
   "name": "python",
   "nbconvert_exporter": "python",
   "pygments_lexer": "ipython3",
   "version": "3.7.0"
  },
  "orig_nbformat": 4,
  "vscode": {
   "interpreter": {
    "hash": "726f61da280e222e219e726f061d5e60f77261e29abc9c75fced1365e0fa4de8"
   }
  }
 },
 "nbformat": 4,
 "nbformat_minor": 2
}
