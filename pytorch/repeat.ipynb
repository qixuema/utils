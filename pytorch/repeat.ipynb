{
 "cells": [
  {
   "cell_type": "code",
   "execution_count": 1,
   "metadata": {},
   "outputs": [
    {
     "name": "stderr",
     "output_type": "stream",
     "text": [
      "/opt/conda/envs/ma/lib/python3.7/site-packages/tqdm/auto.py:22: TqdmWarning: IProgress not found. Please update jupyter and ipywidgets. See https://ipywidgets.readthedocs.io/en/stable/user_install.html\n",
      "  from .autonotebook import tqdm as notebook_tqdm\n"
     ]
    }
   ],
   "source": [
    "import torch"
   ]
  },
  {
   "cell_type": "code",
   "execution_count": 13,
   "metadata": {},
   "outputs": [
    {
     "name": "stdout",
     "output_type": "stream",
     "text": [
      "torch.Size([3])\n",
      "torch.Size([4, 6])\n"
     ]
    }
   ],
   "source": [
    "x = torch.tensor([1,2,3])\n",
    "print(x.size())\n",
    "y1 = x.repeat(4,2)\n",
    "print(y1.size())"
   ]
  },
  {
   "cell_type": "code",
   "execution_count": 14,
   "metadata": {},
   "outputs": [
    {
     "data": {
      "text/plain": [
       "tensor([[1, 2, 3, 1, 2, 3],\n",
       "        [1, 2, 3, 1, 2, 3],\n",
       "        [1, 2, 3, 1, 2, 3],\n",
       "        [1, 2, 3, 1, 2, 3]])"
      ]
     },
     "execution_count": 14,
     "metadata": {},
     "output_type": "execute_result"
    }
   ],
   "source": [
    "y1"
   ]
  },
  {
   "cell_type": "code",
   "execution_count": 3,
   "metadata": {},
   "outputs": [
    {
     "data": {
      "text/plain": [
       "torch.Size([4, 2, 3])"
      ]
     },
     "execution_count": 3,
     "metadata": {},
     "output_type": "execute_result"
    }
   ],
   "source": [
    "x.repeat(4, 2, 1).size()"
   ]
  },
  {
   "cell_type": "code",
   "execution_count": 4,
   "metadata": {},
   "outputs": [
    {
     "name": "stdout",
     "output_type": "stream",
     "text": [
      "tensor([[[1, 2, 3],\n",
      "         [1, 2, 3]],\n",
      "\n",
      "        [[1, 2, 3],\n",
      "         [1, 2, 3]],\n",
      "\n",
      "        [[1, 2, 3],\n",
      "         [1, 2, 3]],\n",
      "\n",
      "        [[1, 2, 3],\n",
      "         [1, 2, 3]]])\n"
     ]
    }
   ],
   "source": [
    "y = x.repeat(4, 2, 1)\n",
    "print(y)"
   ]
  },
  {
   "cell_type": "code",
   "execution_count": 6,
   "metadata": {},
   "outputs": [],
   "source": [
    "x = torch.randn(2,3,5).view(-1,10,1)"
   ]
  },
  {
   "cell_type": "code",
   "execution_count": 7,
   "metadata": {},
   "outputs": [
    {
     "data": {
      "text/plain": [
       "torch.Size([3, 10, 1])"
      ]
     },
     "execution_count": 7,
     "metadata": {},
     "output_type": "execute_result"
    }
   ],
   "source": [
    "x.size()"
   ]
  },
  {
   "cell_type": "code",
   "execution_count": 8,
   "metadata": {},
   "outputs": [],
   "source": [
    "y = x.repeat(1, 1, 4)"
   ]
  },
  {
   "cell_type": "code",
   "execution_count": 9,
   "metadata": {},
   "outputs": [
    {
     "data": {
      "text/plain": [
       "torch.Size([3, 10, 4])"
      ]
     },
     "execution_count": 9,
     "metadata": {},
     "output_type": "execute_result"
    }
   ],
   "source": [
    "y.size()"
   ]
  },
  {
   "cell_type": "code",
   "execution_count": 10,
   "metadata": {},
   "outputs": [
    {
     "data": {
      "text/plain": [
       "tensor([[[ 0.3485,  0.3485,  0.3485,  0.3485],\n",
       "         [-0.5944, -0.5944, -0.5944, -0.5944],\n",
       "         [-0.2237, -0.2237, -0.2237, -0.2237],\n",
       "         [-0.9032, -0.9032, -0.9032, -0.9032],\n",
       "         [ 1.3323,  1.3323,  1.3323,  1.3323],\n",
       "         [ 0.2159,  0.2159,  0.2159,  0.2159],\n",
       "         [ 0.6991,  0.6991,  0.6991,  0.6991],\n",
       "         [-1.3273, -1.3273, -1.3273, -1.3273],\n",
       "         [-0.1115, -0.1115, -0.1115, -0.1115],\n",
       "         [-0.5315, -0.5315, -0.5315, -0.5315]],\n",
       "\n",
       "        [[-0.6289, -0.6289, -0.6289, -0.6289],\n",
       "         [-0.6281, -0.6281, -0.6281, -0.6281],\n",
       "         [ 3.0472,  3.0472,  3.0472,  3.0472],\n",
       "         [ 0.6737,  0.6737,  0.6737,  0.6737],\n",
       "         [ 1.1269,  1.1269,  1.1269,  1.1269],\n",
       "         [ 0.3032,  0.3032,  0.3032,  0.3032],\n",
       "         [ 0.6425,  0.6425,  0.6425,  0.6425],\n",
       "         [ 0.6523,  0.6523,  0.6523,  0.6523],\n",
       "         [-1.0946, -1.0946, -1.0946, -1.0946],\n",
       "         [ 1.2246,  1.2246,  1.2246,  1.2246]],\n",
       "\n",
       "        [[-0.0491, -0.0491, -0.0491, -0.0491],\n",
       "         [-0.5118, -0.5118, -0.5118, -0.5118],\n",
       "         [ 0.0915,  0.0915,  0.0915,  0.0915],\n",
       "         [ 0.1223,  0.1223,  0.1223,  0.1223],\n",
       "         [ 0.5553,  0.5553,  0.5553,  0.5553],\n",
       "         [ 0.8903,  0.8903,  0.8903,  0.8903],\n",
       "         [-0.0085, -0.0085, -0.0085, -0.0085],\n",
       "         [-0.1046, -0.1046, -0.1046, -0.1046],\n",
       "         [-0.5798, -0.5798, -0.5798, -0.5798],\n",
       "         [ 0.8407,  0.8407,  0.8407,  0.8407]]])"
      ]
     },
     "execution_count": 10,
     "metadata": {},
     "output_type": "execute_result"
    }
   ],
   "source": [
    "y"
   ]
  },
  {
   "cell_type": "code",
   "execution_count": 11,
   "metadata": {},
   "outputs": [
    {
     "data": {
      "text/plain": [
       "tensor([[[ 0.3485],\n",
       "         [-0.5944],\n",
       "         [-0.2237],\n",
       "         [-0.9032],\n",
       "         [ 1.3323],\n",
       "         [ 0.2159],\n",
       "         [ 0.6991],\n",
       "         [-1.3273],\n",
       "         [-0.1115],\n",
       "         [-0.5315]],\n",
       "\n",
       "        [[-0.6289],\n",
       "         [-0.6281],\n",
       "         [ 3.0472],\n",
       "         [ 0.6737],\n",
       "         [ 1.1269],\n",
       "         [ 0.3032],\n",
       "         [ 0.6425],\n",
       "         [ 0.6523],\n",
       "         [-1.0946],\n",
       "         [ 1.2246]],\n",
       "\n",
       "        [[-0.0491],\n",
       "         [-0.5118],\n",
       "         [ 0.0915],\n",
       "         [ 0.1223],\n",
       "         [ 0.5553],\n",
       "         [ 0.8903],\n",
       "         [-0.0085],\n",
       "         [-0.1046],\n",
       "         [-0.5798],\n",
       "         [ 0.8407]]])"
      ]
     },
     "execution_count": 11,
     "metadata": {},
     "output_type": "execute_result"
    }
   ],
   "source": [
    "x"
   ]
  },
  {
   "cell_type": "code",
   "execution_count": null,
   "metadata": {},
   "outputs": [],
   "source": []
  }
 ],
 "metadata": {
  "kernelspec": {
   "display_name": "Python 3.7.13 ('ma')",
   "language": "python",
   "name": "python3"
  },
  "language_info": {
   "codemirror_mode": {
    "name": "ipython",
    "version": 3
   },
   "file_extension": ".py",
   "mimetype": "text/x-python",
   "name": "python",
   "nbconvert_exporter": "python",
   "pygments_lexer": "ipython3",
   "version": "3.7.13"
  },
  "orig_nbformat": 4,
  "vscode": {
   "interpreter": {
    "hash": "dddda052fc84d0ec959437bc34cb8da7e61558825bfbf38c798e858e2fbeb909"
   }
  }
 },
 "nbformat": 4,
 "nbformat_minor": 2
}
