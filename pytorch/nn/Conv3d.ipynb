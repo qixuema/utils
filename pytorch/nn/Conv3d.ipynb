{
 "cells": [
  {
   "cell_type": "code",
   "execution_count": 1,
   "metadata": {},
   "outputs": [
    {
     "name": "stderr",
     "output_type": "stream",
     "text": [
      "/opt/conda/envs/ma/lib/python3.7/site-packages/tqdm/auto.py:22: TqdmWarning: IProgress not found. Please update jupyter and ipywidgets. See https://ipywidgets.readthedocs.io/en/stable/user_install.html\n",
      "  from .autonotebook import tqdm as notebook_tqdm\n"
     ]
    }
   ],
   "source": [
    "import torch\n",
    "from torch import nn"
   ]
  },
  {
   "cell_type": "markdown",
   "metadata": {},
   "source": [
    "3D卷积, 输入的shape是(N, C_in, D_in, H_in, W_in), 输出shape(N, C_out, D_out, H_out, W_out )"
   ]
  },
  {
   "cell_type": "markdown",
   "metadata": {},
   "source": [
    "<img src=\"../../pic/Conv3d_Shape.png\" style=\"zoom:100%\" />"
   ]
  },
  {
   "cell_type": "code",
   "execution_count": 2,
   "metadata": {},
   "outputs": [],
   "source": [
    "# Sample intput | 随机输入\n",
    "net_input = torch.randn(16, 32, 10, 128, 128)"
   ]
  },
  {
   "cell_type": "code",
   "execution_count": 3,
   "metadata": {},
   "outputs": [
    {
     "name": "stdout",
     "output_type": "stream",
     "text": [
      "torch.Size([32, 64, 5, 64, 64])\n"
     ]
    }
   ],
   "source": [
    "conv3d = nn.Conv3d(32, 64, kernel_size=3, stride=2,padding=1)\n",
    "net_output = conv3d(net_input)\n",
    "print(net_output.shape)"
   ]
  },
  {
   "cell_type": "code",
   "execution_count": 4,
   "metadata": {},
   "outputs": [
    {
     "data": {
      "text/plain": [
       "torch.Size([32, 64, 5, 64, 64])"
      ]
     },
     "execution_count": 4,
     "metadata": {},
     "output_type": "execute_result"
    }
   ],
   "source": [
    "net_output.size()"
   ]
  },
  {
   "cell_type": "code",
   "execution_count": 13,
   "metadata": {},
   "outputs": [
    {
     "name": "stdout",
     "output_type": "stream",
     "text": [
      "tensor([[[[[ 0.3005,  0.0148,  0.1543],\n",
      "           [-1.8009,  0.6725, -0.1381]],\n",
      "\n",
      "          [[ 1.0713,  1.6428,  0.7569],\n",
      "           [ 1.0697, -1.0883,  1.0084]]],\n",
      "\n",
      "\n",
      "         [[[-0.6721,  0.8340,  0.1514],\n",
      "           [ 1.5199,  0.1171,  0.6401]],\n",
      "\n",
      "          [[-0.5633,  1.2925, -0.0742],\n",
      "           [-0.5936,  0.7179,  0.5420]]]]])\n",
      "tensor([[[[[ 0.3005,  0.0148,  0.1543],\n",
      "           [-1.8009,  0.6725, -0.1381]],\n",
      "\n",
      "          [[ 1.0713,  1.6428,  0.7569],\n",
      "           [ 1.0697, -1.0883,  1.0084]]],\n",
      "\n",
      "\n",
      "         [[[-0.6721,  0.8340,  0.1514],\n",
      "           [ 1.5199,  0.1171,  0.6401]],\n",
      "\n",
      "          [[-0.5633,  1.2925, -0.0742],\n",
      "           [-0.5936,  0.7179,  0.5420]]]]])\n"
     ]
    }
   ],
   "source": [
    "\n",
    "input2 = input.clone()\n",
    "print(input)\n",
    "print(input2)"
   ]
  },
  {
   "cell_type": "code",
   "execution_count": 17,
   "metadata": {},
   "outputs": [],
   "source": [
    "conv3d = nn.Conv3d(3,4,1)\n",
    "conv1d = nn.Conv1d(3,4,1)"
   ]
  },
  {
   "cell_type": "code",
   "execution_count": 33,
   "metadata": {},
   "outputs": [
    {
     "name": "stdout",
     "output_type": "stream",
     "text": [
      "tensor([[[[[-1.7027, -0.7018, -1.7819],\n",
      "           [ 1.4990,  0.6454,  0.8585]],\n",
      "\n",
      "          [[ 1.8852, -0.2317,  1.5936],\n",
      "           [ 0.0828, -0.9938, -1.7343]]],\n",
      "\n",
      "\n",
      "         [[[ 1.0886, -0.9597, -0.7489],\n",
      "           [-0.7109,  1.3764,  1.5259]],\n",
      "\n",
      "          [[-0.0401,  2.0923, -0.4369],\n",
      "           [-1.3859,  0.5232, -0.2636]]]]])\n",
      "tensor([[[[[-1.7027, -0.7018, -1.7819],\n",
      "           [ 1.4990,  0.6454,  0.8585]],\n",
      "\n",
      "          [[ 1.8852, -0.2317,  1.5936],\n",
      "           [ 0.0828, -0.9938, -1.7343]]],\n",
      "\n",
      "\n",
      "         [[[ 1.0886, -0.9597, -0.7489],\n",
      "           [-0.7109,  1.3764,  1.5259]],\n",
      "\n",
      "          [[-0.0401,  2.0923, -0.4369],\n",
      "           [-1.3859,  0.5232, -0.2636]]]]])\n"
     ]
    }
   ],
   "source": [
    "input = torch.randn(1,2,2,2,3)\n",
    "input2 = input.clone()\n",
    "print(input)\n",
    "print(input2)\n",
    "input = input.permute(0,4,1,2,3)"
   ]
  },
  {
   "cell_type": "code",
   "execution_count": 34,
   "metadata": {},
   "outputs": [
    {
     "name": "stdout",
     "output_type": "stream",
     "text": [
      "tensor([[[[[-0.9346, -0.0482],\n",
      "           [-0.3428, -1.3088]],\n",
      "\n",
      "          [[-1.1807,  0.7787],\n",
      "           [ 0.5401,  0.0029]]],\n",
      "\n",
      "\n",
      "         [[[ 1.9475, -0.8611],\n",
      "           [-0.8647,  1.0390]],\n",
      "\n",
      "          [[ 0.2822, -0.0085],\n",
      "           [-0.3281,  1.0220]]],\n",
      "\n",
      "\n",
      "         [[[-0.1827, -0.6189],\n",
      "           [-0.2272, -0.3829]],\n",
      "\n",
      "          [[-0.3536, -0.3380],\n",
      "           [-1.1267, -0.3221]]],\n",
      "\n",
      "\n",
      "         [[[ 0.6653, -0.0713],\n",
      "           [ 0.2112, -0.0870]],\n",
      "\n",
      "          [[-0.1794,  1.0666],\n",
      "           [-0.1502,  0.8590]]]]], grad_fn=<ConvolutionBackward0>)\n"
     ]
    }
   ],
   "source": [
    "output = conv3d(input)\n",
    "print(output)"
   ]
  },
  {
   "cell_type": "code",
   "execution_count": 35,
   "metadata": {},
   "outputs": [
    {
     "name": "stdout",
     "output_type": "stream",
     "text": [
      "tensor([[[[[-1.7027, -0.7018, -1.7819],\n",
      "           [ 1.4990,  0.6454,  0.8585]],\n",
      "\n",
      "          [[ 1.8852, -0.2317,  1.5936],\n",
      "           [ 0.0828, -0.9938, -1.7343]]],\n",
      "\n",
      "\n",
      "         [[[ 1.0886, -0.9597, -0.7489],\n",
      "           [-0.7109,  1.3764,  1.5259]],\n",
      "\n",
      "          [[-0.0401,  2.0923, -0.4369],\n",
      "           [-1.3859,  0.5232, -0.2636]]]]])\n"
     ]
    },
    {
     "data": {
      "text/plain": [
       "torch.Size([1, 3, 8])"
      ]
     },
     "execution_count": 35,
     "metadata": {},
     "output_type": "execute_result"
    }
   ],
   "source": [
    "print(input2)\n",
    "input2 =  input2.view(1, 3, 8)\n",
    "input2.shape"
   ]
  },
  {
   "cell_type": "code",
   "execution_count": 36,
   "metadata": {},
   "outputs": [
    {
     "name": "stdout",
     "output_type": "stream",
     "text": [
      "tensor([[[ 0.1529, -0.3445, -0.0114, -1.0260,  1.2742,  1.0850,  0.2436,\n",
      "           0.4153],\n",
      "         [ 0.2611, -0.5501, -0.6169, -1.6735,  0.3563, -0.3961, -0.8271,\n",
      "          -0.5039],\n",
      "         [ 0.6581, -0.5577,  0.4108, -2.7317,  0.3151, -0.1148, -1.6165,\n",
      "          -0.1086],\n",
      "         [-0.2271, -0.6047, -1.8661, -0.5849,  0.2266, -0.9305, -0.1121,\n",
      "          -1.0933]]], grad_fn=<ConvolutionBackward0>)\n"
     ]
    }
   ],
   "source": [
    "output2 = conv1d(input2)\n",
    "print(output2)"
   ]
  },
  {
   "cell_type": "code",
   "execution_count": 37,
   "metadata": {},
   "outputs": [
    {
     "data": {
      "text/plain": [
       "torch.Size([1, 4, 8])"
      ]
     },
     "execution_count": 37,
     "metadata": {},
     "output_type": "execute_result"
    }
   ],
   "source": [
    "output2.shape"
   ]
  },
  {
   "cell_type": "code",
   "execution_count": 38,
   "metadata": {},
   "outputs": [],
   "source": [
    "output2 = output2.view(1,4,2,2,2)"
   ]
  },
  {
   "cell_type": "code",
   "execution_count": 32,
   "metadata": {},
   "outputs": [
    {
     "data": {
      "text/plain": [
       "tensor([[[[[ 0.8046,  0.5925],\n",
       "           [ 0.4942, -0.0249]],\n",
       "\n",
       "          [[ 0.4426,  1.1667],\n",
       "           [ 0.3555,  1.0206]]],\n",
       "\n",
       "\n",
       "         [[[ 0.0758,  0.1085],\n",
       "           [-0.6287,  0.0072]],\n",
       "\n",
       "          [[-0.5788,  0.3136],\n",
       "           [-0.4040,  0.2661]]],\n",
       "\n",
       "\n",
       "         [[[ 0.0311,  0.0072],\n",
       "           [-0.2881,  0.5076]],\n",
       "\n",
       "          [[-0.6462,  0.6835],\n",
       "           [-0.9457, -0.5513]]],\n",
       "\n",
       "\n",
       "         [[[-0.0191,  0.1052],\n",
       "           [-1.1786, -0.5977]],\n",
       "\n",
       "          [[-0.6653, -0.2630],\n",
       "           [ 0.0621,  1.0194]]]]], grad_fn=<ViewBackward0>)"
      ]
     },
     "execution_count": 32,
     "metadata": {},
     "output_type": "execute_result"
    }
   ],
   "source": [
    "output2"
   ]
  },
  {
   "cell_type": "code",
   "execution_count": null,
   "metadata": {},
   "outputs": [],
   "source": []
  }
 ],
 "metadata": {
  "kernelspec": {
   "display_name": "Python 3.7.13 ('ma')",
   "language": "python",
   "name": "python3"
  },
  "language_info": {
   "codemirror_mode": {
    "name": "ipython",
    "version": 3
   },
   "file_extension": ".py",
   "mimetype": "text/x-python",
   "name": "python",
   "nbconvert_exporter": "python",
   "pygments_lexer": "ipython3",
   "version": "3.7.13"
  },
  "orig_nbformat": 4,
  "vscode": {
   "interpreter": {
    "hash": "dddda052fc84d0ec959437bc34cb8da7e61558825bfbf38c798e858e2fbeb909"
   }
  }
 },
 "nbformat": 4,
 "nbformat_minor": 2
}
