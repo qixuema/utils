{
 "cells": [
  {
   "cell_type": "code",
   "execution_count": 1,
   "metadata": {},
   "outputs": [],
   "source": [
    "import torch\n",
    "import torch.nn as nn"
   ]
  },
  {
   "cell_type": "code",
   "execution_count": 2,
   "metadata": {},
   "outputs": [
    {
     "name": "stdout",
     "output_type": "stream",
     "text": [
      "tensor([[1.0000, 2.3000, 3.0000],\n",
      "        [4.0000, 5.1000, 6.3000]])\n",
      "tensor([1])\n"
     ]
    },
    {
     "data": {
      "text/plain": [
       "tensor([[4.0000, 5.1000, 6.3000]])"
      ]
     },
     "execution_count": 2,
     "metadata": {},
     "output_type": "execute_result"
    }
   ],
   "source": [
    "# FloatTensor containing pretrained weights\n",
    "weight = torch.FloatTensor([[1, 2.3, 3], [4, 5.1, 6.3]])\n",
    "print(weight)\n",
    "embedding = nn.Embedding.from_pretrained(weight)\n",
    "# Get embeddings for index 1\n",
    "input = torch.LongTensor([1])\n",
    "print(input)\n",
    "embedding(input)"
   ]
  },
  {
   "cell_type": "code",
   "execution_count": 7,
   "metadata": {},
   "outputs": [
    {
     "name": "stdout",
     "output_type": "stream",
     "text": [
      "tensor([1, 0, 1])\n"
     ]
    },
    {
     "data": {
      "text/plain": [
       "tensor([[4.0000, 5.1000, 6.3000],\n",
       "        [1.0000, 2.3000, 3.0000],\n",
       "        [4.0000, 5.1000, 6.3000]])"
      ]
     },
     "execution_count": 7,
     "metadata": {},
     "output_type": "execute_result"
    }
   ],
   "source": [
    "input = torch.LongTensor([1,0,1])\n",
    "print(input)\n",
    "embedding(input)"
   ]
  },
  {
   "cell_type": "code",
   "execution_count": null,
   "metadata": {},
   "outputs": [],
   "source": []
  }
 ],
 "metadata": {
  "kernelspec": {
   "display_name": "Python 3.7.13 ('ma')",
   "language": "python",
   "name": "python3"
  },
  "language_info": {
   "codemirror_mode": {
    "name": "ipython",
    "version": 3
   },
   "file_extension": ".py",
   "mimetype": "text/x-python",
   "name": "python",
   "nbconvert_exporter": "python",
   "pygments_lexer": "ipython3",
   "version": "3.7.13"
  },
  "orig_nbformat": 4,
  "vscode": {
   "interpreter": {
    "hash": "dddda052fc84d0ec959437bc34cb8da7e61558825bfbf38c798e858e2fbeb909"
   }
  }
 },
 "nbformat": 4,
 "nbformat_minor": 2
}
