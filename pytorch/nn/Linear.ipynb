{
 "cells": [
  {
   "cell_type": "code",
   "execution_count": 2,
   "metadata": {},
   "outputs": [],
   "source": [
    "import torch\n",
    "from torch import nn\n",
    "import numpy as np"
   ]
  },
  {
   "cell_type": "code",
   "execution_count": 3,
   "metadata": {},
   "outputs": [],
   "source": [
    "X_2dim=np.array([[1,2,3,4],\n",
    "                 [2,3,45,6]]) #二维数组(2,4)\n",
    "X_3dim=np.array([[[1,2,3,4],\n",
    "                  [2,3,4,6],\n",
    "                  [3,4,5,5]],\n",
    "                 [[1,1,5,6],\n",
    "                  [0,0,6,5],\n",
    "                  [3,3,5,7]]]) # 三维数组（2,3,4）"
   ]
  },
  {
   "cell_type": "code",
   "execution_count": 4,
   "metadata": {},
   "outputs": [],
   "source": [
    "\n",
    "#转成tensor的形式，因为Linear要求输入是float类型，因此还需要转成float32\n",
    "X2_tensor=torch.from_numpy(X_2dim.astype(np.float32))\n",
    "X3_tensor=torch.from_numpy(X_3dim.astype(np.float32))"
   ]
  },
  {
   "cell_type": "code",
   "execution_count": 5,
   "metadata": {},
   "outputs": [],
   "source": [
    "#用来改变最后数组最后一维的维度\n",
    "#用来缩小或者扩展特征维度\n",
    "emdeding=nn.Linear(4,3)\n",
    "Y2=emdeding(X2_tensor)\n",
    "Y3=emdeding(X3_tensor)\n"
   ]
  },
  {
   "cell_type": "code",
   "execution_count": 6,
   "metadata": {},
   "outputs": [
    {
     "name": "stdout",
     "output_type": "stream",
     "text": [
      "tensor([[ 1.8309,  0.7600, -0.6563],\n",
      "        [10.5949,  4.5120, -4.4885]], grad_fn=<AddmmBackward0>)\n",
      "tensor([[[ 1.8309,  0.7600, -0.6563],\n",
      "         [ 2.4270,  0.9352, -0.7332],\n",
      "         [ 2.2396,  0.5981, -0.4975]],\n",
      "\n",
      "        [[ 2.4502,  1.4058, -1.1235],\n",
      "         [ 2.5137,  1.5758, -1.3339],\n",
      "         [ 2.4605,  1.0694, -0.7815]]], grad_fn=<AddBackward0>)\n"
     ]
    }
   ],
   "source": [
    "\n",
    "#输出\n",
    "print(Y2)\n",
    "print(Y3)"
   ]
  },
  {
   "cell_type": "code",
   "execution_count": 7,
   "metadata": {},
   "outputs": [
    {
     "name": "stdout",
     "output_type": "stream",
     "text": [
      "tensor([[ 1.8309,  0.7600, -0.6563],\n",
      "        [ 2.4270,  0.9352, -0.7332],\n",
      "        [ 2.2396,  0.5981, -0.4975],\n",
      "        [ 2.4502,  1.4058, -1.1235],\n",
      "        [ 2.5137,  1.5758, -1.3339],\n",
      "        [ 2.4605,  1.0694, -0.7815]], grad_fn=<AddmmBackward0>)\n"
     ]
    }
   ],
   "source": [
    "X3_v = X3_tensor.view(-1,4)\n",
    "Y3_v = emdeding(X3_v)\n",
    "print(Y3_v)"
   ]
  },
  {
   "cell_type": "code",
   "execution_count": 8,
   "metadata": {},
   "outputs": [
    {
     "data": {
      "text/plain": [
       "tensor([[[ 1.8309,  0.7600, -0.6563],\n",
       "         [ 2.4270,  0.9352, -0.7332],\n",
       "         [ 2.2396,  0.5981, -0.4975]],\n",
       "\n",
       "        [[ 2.4502,  1.4058, -1.1235],\n",
       "         [ 2.5137,  1.5758, -1.3339],\n",
       "         [ 2.4605,  1.0694, -0.7815]]], grad_fn=<ViewBackward0>)"
      ]
     },
     "execution_count": 8,
     "metadata": {},
     "output_type": "execute_result"
    }
   ],
   "source": [
    "Y3_v.view(2,3,3)"
   ]
  },
  {
   "cell_type": "code",
   "execution_count": null,
   "metadata": {},
   "outputs": [],
   "source": []
  }
 ],
 "metadata": {
  "kernelspec": {
   "display_name": "Python 3.7.13 ('ma')",
   "language": "python",
   "name": "python3"
  },
  "language_info": {
   "codemirror_mode": {
    "name": "ipython",
    "version": 3
   },
   "file_extension": ".py",
   "mimetype": "text/x-python",
   "name": "python",
   "nbconvert_exporter": "python",
   "pygments_lexer": "ipython3",
   "version": "3.7.13"
  },
  "orig_nbformat": 4,
  "vscode": {
   "interpreter": {
    "hash": "dddda052fc84d0ec959437bc34cb8da7e61558825bfbf38c798e858e2fbeb909"
   }
  }
 },
 "nbformat": 4,
 "nbformat_minor": 2
}
