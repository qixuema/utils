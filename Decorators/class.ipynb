{
 "cells": [
  {
   "cell_type": "code",
   "execution_count": 1,
   "metadata": {
    "slideshow": {
     "slide_type": "notes"
    }
   },
   "outputs": [
    {
     "name": "stdout",
     "output_type": "stream",
     "text": [
      "inside myDecorator.__init__()\n",
      "inside aFunction()\n",
      "Finished decorating aFunction()\n",
      "inside myDecorator.__call__()\n"
     ]
    }
   ],
   "source": [
    "# 使用类作为装饰器\n",
    "# 类也可以作为装饰器，使用起来可能比函数装饰器更方便。首先看下面一个简单的例子：\n",
    "class myDecorator(object):\n",
    "    def __init__(self, f):\n",
    "         print(\"inside myDecorator.__init__()\")\n",
    "         f() # Prove that function definition has completed\n",
    "    def __call__(self):\n",
    "         print(\"inside myDecorator.__call__()\")\n",
    "\n",
    "@myDecorator\n",
    "def aFunction():\n",
    "     print(\"inside aFunction()\")\n",
    "\n",
    "print(\"Finished decorating aFunction()\")\n",
    "\n",
    "aFunction()"
   ]
  },
  {
   "attachments": {},
   "cell_type": "markdown",
   "metadata": {},
   "source": [
    "可以看出，在aFunction()函数声明处进入了类myDecorator的__init__()方法，但要注意，从第2个输出可以看出，此时函数aFunction()的定义已经完成了，在__init__()中调用的输入参数f()，实际上是调用了aFunction()函数。至此aFunction()函数的声明完成，包括装饰器声明的部分，然后输出了第3个输出。最后执行aFunction()时，可以看出实际上是执行了类myDecorator的__call__()方法（定义了__call__()方法的类的对象可以像函数一样被调用，此时调用的是对象的__call__()方法）。"
   ]
  },
  {
   "attachments": {},
   "cell_type": "markdown",
   "metadata": {},
   "source": [
    "因此被装饰后的函数aFunction()实际上已经是类myDecorator的对象。当再调用aFunction()函数时，实际上就是调用类myDecorator的对象，因此会调用到类myDecorator的__call__()方法。"
   ]
  },
  {
   "attachments": {},
   "cell_type": "markdown",
   "metadata": {},
   "source": [
    "因此使用类作为装饰器装饰函数来对函数添加一些额外的属性或功能时，一般会在类的__init__()方法中记录传入的函数，再在__call__()调用修饰的函数及其它额外处理。\n",
    "\n",
    "下面是一个简单的例子："
   ]
  },
  {
   "cell_type": "code",
   "execution_count": 2,
   "metadata": {},
   "outputs": [
    {
     "name": "stdout",
     "output_type": "stream",
     "text": [
      "Entering func1\n",
      "inside func1()\n",
      "Exited func1\n",
      "Entering func2\n",
      "inside func2()\n",
      "Exited func2\n"
     ]
    }
   ],
   "source": [
    "class entryExit(object):\n",
    "     def __init__(self, f):\n",
    "         self.f = f\n",
    "     def __call__(self):\n",
    "         print(\"Entering\", self.f.__name__)\n",
    "         self.f()\n",
    "         print(\"Exited\", self.f.__name__)\n",
    "\n",
    "@entryExit\n",
    "def func1():\n",
    "    print(\"inside func1()\")\n",
    "\n",
    "@entryExit\n",
    "def func2():\n",
    "    print(\"inside func2()\")\n",
    "\n",
    "func1()\n",
    "func2()"
   ]
  },
  {
   "cell_type": "code",
   "execution_count": null,
   "metadata": {},
   "outputs": [],
   "source": []
  }
 ],
 "metadata": {
  "kernelspec": {
   "display_name": "Python 3.9.15 ('utils')",
   "language": "python",
   "name": "python3"
  },
  "language_info": {
   "codemirror_mode": {
    "name": "ipython",
    "version": 3
   },
   "file_extension": ".py",
   "mimetype": "text/x-python",
   "name": "python",
   "nbconvert_exporter": "python",
   "pygments_lexer": "ipython3",
   "version": "3.9.15"
  },
  "orig_nbformat": 4,
  "vscode": {
   "interpreter": {
    "hash": "bb24b0be5eb745bbe31663e74c527be694446a963708f5d5bda5d14c8089218b"
   }
  }
 },
 "nbformat": 4,
 "nbformat_minor": 2
}
