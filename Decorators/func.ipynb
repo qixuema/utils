{
 "cells": [
  {
   "cell_type": "code",
   "execution_count": 3,
   "metadata": {},
   "outputs": [
    {
     "name": "stdout",
     "output_type": "stream",
     "text": [
      "C语言中文网\n",
      "学习 Python\n",
      "http://c.biancheng.net\n"
     ]
    }
   ],
   "source": [
    "#funA 作为装饰器函数\n",
    "def funA(fn):\n",
    "    print(\"C语言中文网\")\n",
    "    fn() # 执行传入的fn参数\n",
    "    print(\"http://c.biancheng.net\")\n",
    "    return \"装饰器函数的返回值\"\n",
    "\n",
    "@funA\n",
    "def funB():\n",
    "    print(\"学习 Python\")"
   ]
  },
  {
   "attachments": {},
   "cell_type": "markdown",
   "metadata": {},
   "source": [
    "实际上，所谓函数装饰器，就是通过装饰器函数，在不修改原函数的前提下，来对函数的功能进行合理的扩充。"
   ]
  },
  {
   "cell_type": "code",
   "execution_count": 6,
   "metadata": {},
   "outputs": [],
   "source": [
    "a = funB"
   ]
  },
  {
   "cell_type": "code",
   "execution_count": 7,
   "metadata": {},
   "outputs": [
    {
     "name": "stdout",
     "output_type": "stream",
     "text": [
      "装饰器函数的返回值\n"
     ]
    }
   ],
   "source": [
    "print(a)"
   ]
  },
  {
   "attachments": {},
   "cell_type": "markdown",
   "metadata": {},
   "source": [
    "带有参数的函数装饰器"
   ]
  },
  {
   "cell_type": "code",
   "execution_count": 9,
   "metadata": {},
   "outputs": [],
   "source": [
    "def funA(fn):\n",
    "    # 定义一个嵌套函数\n",
    "    def say(arc):\n",
    "        print(\"Python教程:\",arc)\n",
    "    return say\n",
    "@funA\n",
    "def funB(arc):\n",
    "    print(\"funB():\", a)"
   ]
  },
  {
   "cell_type": "code",
   "execution_count": 10,
   "metadata": {},
   "outputs": [
    {
     "name": "stdout",
     "output_type": "stream",
     "text": [
      "Python教程: http://c.biancheng.net/python\n"
     ]
    }
   ],
   "source": [
    "funB(\"http://c.biancheng.net/python\")"
   ]
  },
  {
   "attachments": {},
   "cell_type": "markdown",
   "metadata": {},
   "source": [
    "这里有必要给读者分析一下这个程序，其实，它和如下程序是等价的："
   ]
  },
  {
   "cell_type": "code",
   "execution_count": 11,
   "metadata": {},
   "outputs": [
    {
     "name": "stdout",
     "output_type": "stream",
     "text": [
      "Python教程: http://c.biancheng.net/python\n"
     ]
    }
   ],
   "source": [
    "def funA(fn):\n",
    "    # 定义一个嵌套函数\n",
    "    def say(arc):\n",
    "        print(\"Python教程:\",arc)\n",
    "    return say\n",
    "def funB(arc):\n",
    "    print(\"funB():\", a)\n",
    "   \n",
    "funB = funA(funB)\n",
    "funB(\"http://c.biancheng.net/python\")"
   ]
  },
  {
   "attachments": {},
   "cell_type": "markdown",
   "metadata": {},
   "source": [
    "如果运行此程序会发现，它的输出结果和上面程序相同。\n",
    "\n",
    "显然，通过 funB() 函数被装饰器 funA() 修饰，funB 就被赋值为 say。这意味着，虽然我们在程序显式调用的是 funB() 函数，但其实执行的是装饰器嵌套的 say() 函数。\n",
    "\n",
    "但还有一个问题需要解决，即如果当前程序中，有多个（≥ 2）函数被同一个装饰器函数修饰，这些函数带有的参数个数并不相等，怎么办呢？\n",
    "\n",
    "最简单的解决方式是用 *args 和 **kwargs 作为装饰器内部嵌套函数的参数，*args 和 **kwargs 表示接受任意数量和类型的参数。举个例子："
   ]
  },
  {
   "cell_type": "code",
   "execution_count": 12,
   "metadata": {},
   "outputs": [
    {
     "name": "stdout",
     "output_type": "stream",
     "text": [
      "C语言中文网： http://c.biancheng.net\n",
      "Python教程： http://c.biancheng.net/python\n"
     ]
    }
   ],
   "source": [
    "def funA(fn):\n",
    "    # 定义一个嵌套函数\n",
    "    def say(*args,**kwargs):\n",
    "        fn(*args,**kwargs)\n",
    "    return say\n",
    "@funA\n",
    "def funB(arc):\n",
    "    print(\"C语言中文网：\",arc)\n",
    "@funA\n",
    "def other_funB(name,arc):\n",
    "    print(name,arc)\n",
    "funB(\"http://c.biancheng.net\")\n",
    "other_funB(\"Python教程：\",\"http://c.biancheng.net/python\")"
   ]
  },
  {
   "cell_type": "code",
   "execution_count": null,
   "metadata": {},
   "outputs": [],
   "source": []
  }
 ],
 "metadata": {
  "kernelspec": {
   "display_name": "Python 3.9.15 ('utils')",
   "language": "python",
   "name": "python3"
  },
  "language_info": {
   "codemirror_mode": {
    "name": "ipython",
    "version": 3
   },
   "file_extension": ".py",
   "mimetype": "text/x-python",
   "name": "python",
   "nbconvert_exporter": "python",
   "pygments_lexer": "ipython3",
   "version": "3.9.15"
  },
  "orig_nbformat": 4,
  "vscode": {
   "interpreter": {
    "hash": "bb24b0be5eb745bbe31663e74c527be694446a963708f5d5bda5d14c8089218b"
   }
  }
 },
 "nbformat": 4,
 "nbformat_minor": 2
}
