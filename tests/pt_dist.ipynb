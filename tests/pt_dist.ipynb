{
 "cells": [
  {
   "cell_type": "code",
   "execution_count": 1,
   "metadata": {},
   "outputs": [],
   "source": [
    "import torch\n",
    "import numpy as np"
   ]
  },
  {
   "cell_type": "markdown",
   "metadata": {},
   "source": [
    "# Gaussian and MultivariateNormalDiag\n",
    "Useful resources:\n",
    "Understanding Shapes in PyTorch Distributions Package https://bochang.me/blog/posts/pytorch-distributions/"
   ]
  },
  {
   "cell_type": "code",
   "execution_count": 10,
   "metadata": {},
   "outputs": [
    {
     "name": "stdout",
     "output_type": "stream",
     "text": [
      "tensor([[-0.9189, -0.9189, -0.9189],\n",
      "        [-0.9189, -0.9189, -0.9189]])\n",
      "tensor([-2.7568, -2.7568]) tensor([-2.7568, -2.7568])\n"
     ]
    }
   ],
   "source": [
    "mean = torch.tensor([[0,0,0.],[0,0,0.]])\n",
    "std  = torch.tensor([[1,1,1],[1,1,1.]])\n",
    "dist = torch.distributions.normal.Normal(mean,std)\n",
    "# MultivariateNormalDiag\n",
    "ind  = torch.distributions.independent.Independent(dist, 1)\n",
    "print(dist.log_prob(mean))\n",
    "print(ind.log_prob(mean), dist.log_prob(mean).sum(-1))"
   ]
  },
  {
   "cell_type": "code",
   "execution_count": 11,
   "metadata": {},
   "outputs": [
    {
     "name": "stdout",
     "output_type": "stream",
     "text": [
      "tensor([[0., 0., 0.],\n",
      "        [0., 0., 0.]]) tensor([[1., 1., 1.],\n",
      "        [1., 1., 1.]])\n",
      "tensor([[0., 0., 0.],\n",
      "        [0., 0., 0.]]) tensor([[1., 1., 1.],\n",
      "        [1., 1., 1.]])\n"
     ]
    }
   ],
   "source": [
    "print(dist.mean, dist.variance)\n",
    "print(ind.mean,  ind.variance )"
   ]
  },
  {
   "cell_type": "markdown",
   "metadata": {},
   "source": [
    "# Bernoulli"
   ]
  },
  {
   "cell_type": "code",
   "execution_count": 28,
   "metadata": {},
   "outputs": [
    {
     "name": "stdout",
     "output_type": "stream",
     "text": [
      "mean/var of dist tensor([[0.0000],\n",
      "        [1.0000],\n",
      "        [0.5000],\n",
      "        [0.2000],\n",
      "        [0.8000]]) tensor([[0.0000],\n",
      "        [0.0000],\n",
      "        [0.2500],\n",
      "        [0.1600],\n",
      "        [0.1600]])\n",
      "probability: tensor([[1.0000],\n",
      "        [1.0000],\n",
      "        [0.5000],\n",
      "        [0.6063],\n",
      "        [0.6063]]) tensor([1.0000, 1.0000, 0.5000, 0.6063, 0.6063])\n"
     ]
    }
   ],
   "source": [
    "p    = torch.tensor([[0.],[1.],[.5],[.2],[.8]])\n",
    "dist = torch.distributions.bernoulli.Bernoulli(p)\n",
    "print('mean/var of dist',dist.mean, dist.variance)\n",
    "ind  = torch.distributions.independent.Independent(dist, 1)\n",
    "print('probability:', torch.exp(dist.log_prob(p)), torch.exp(ind.log_prob(p)) )"
   ]
  },
  {
   "cell_type": "code",
   "execution_count": 35,
   "metadata": {},
   "outputs": [
    {
     "name": "stdout",
     "output_type": "stream",
     "text": [
      "mean/var of dist tensor([[0.0000],\n",
      "        [1.0000],\n",
      "        [0.5000],\n",
      "        [0.2689],\n",
      "        [0.7311]]) tensor([[0.0000e+00],\n",
      "        [4.5417e-05],\n",
      "        [2.5000e-01],\n",
      "        [1.9661e-01],\n",
      "        [1.9661e-01]])\n",
      "probability: tensor([[1.0000],\n",
      "        [1.0000],\n",
      "        [0.5000],\n",
      "        [0.5985],\n",
      "        [0.5985]]) tensor([1.0000, 1.0000, 0.5000, 0.5985, 0.5985])\n"
     ]
    }
   ],
   "source": [
    "logits    = torch.tensor([[-100.],[10.],[0],[-1],[1]])\n",
    "dist = torch.distributions.bernoulli.Bernoulli(logits=logits)\n",
    "print('mean/var of dist',dist.mean, dist.variance)\n",
    "ind  = torch.distributions.independent.Independent(dist, 1)\n",
    "print('probability:', torch.exp(dist.log_prob(p)), torch.exp(ind.log_prob(p)) )"
   ]
  },
  {
   "cell_type": "code",
   "execution_count": 37,
   "metadata": {},
   "outputs": [
    {
     "data": {
      "text/plain": [
       "(tensor([1, 2, 3]), tensor([4, 5, 6]))"
      ]
     },
     "execution_count": 37,
     "metadata": {},
     "output_type": "execute_result"
    }
   ],
   "source": [
    "torch.tensor([1,2,3,4,5,6]).split(3,0)"
   ]
  },
  {
   "cell_type": "code",
   "execution_count": null,
   "metadata": {},
   "outputs": [],
   "source": []
  }
 ],
 "metadata": {
  "kernelspec": {
   "display_name": "nnrecon",
   "language": "python",
   "name": "nnrecon"
  },
  "language_info": {
   "codemirror_mode": {
    "name": "ipython",
    "version": 3
   },
   "file_extension": ".py",
   "mimetype": "text/x-python",
   "name": "python",
   "nbconvert_exporter": "python",
   "pygments_lexer": "ipython3",
   "version": "3.7.7"
  }
 },
 "nbformat": 4,
 "nbformat_minor": 4
}
