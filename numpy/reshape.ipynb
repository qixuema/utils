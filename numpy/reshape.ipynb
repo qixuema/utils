{
 "cells": [
  {
   "cell_type": "code",
   "execution_count": 1,
   "metadata": {},
   "outputs": [],
   "source": [
    "import numpy as np"
   ]
  },
  {
   "cell_type": "code",
   "execution_count": 3,
   "metadata": {},
   "outputs": [
    {
     "name": "stdout",
     "output_type": "stream",
     "text": [
      "[[[3 9 6]\n",
      "  [0 1 0]\n",
      "  [2 7 7]\n",
      "  [9 0 2]]\n",
      "\n",
      " [[2 0 6]\n",
      "  [1 9 2]\n",
      "  [9 6 4]\n",
      "  [9 3 5]]]\n",
      "[[[3 9 6]\n",
      "  [0 1 0]]\n",
      "\n",
      " [[2 7 7]\n",
      "  [9 0 2]]\n",
      "\n",
      " [[2 0 6]\n",
      "  [1 9 2]]\n",
      "\n",
      " [[9 6 4]\n",
      "  [9 3 5]]]\n"
     ]
    }
   ],
   "source": [
    "a = np.random.randint(0,10,size=[2,4,3])\n",
    "print(a)\n",
    "a1 = a.reshape(4,2,3)\n",
    "print(a1)"
   ]
  },
  {
   "cell_type": "code",
   "execution_count": null,
   "metadata": {},
   "outputs": [],
   "source": []
  }
 ],
 "metadata": {
  "kernelspec": {
   "display_name": "Python 3.7.13 ('ndc')",
   "language": "python",
   "name": "python3"
  },
  "language_info": {
   "codemirror_mode": {
    "name": "ipython",
    "version": 3
   },
   "file_extension": ".py",
   "mimetype": "text/x-python",
   "name": "python",
   "nbconvert_exporter": "python",
   "pygments_lexer": "ipython3",
   "version": "3.7.13"
  },
  "orig_nbformat": 4,
  "vscode": {
   "interpreter": {
    "hash": "2dcfe38c0cac9f127117a4e549a9e3f5d8adafdfde3fda2c9b0223abbe460242"
   }
  }
 },
 "nbformat": 4,
 "nbformat_minor": 2
}
