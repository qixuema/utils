{
 "cells": [
  {
   "cell_type": "code",
   "execution_count": 1,
   "metadata": {},
   "outputs": [],
   "source": [
    "import numpy as np"
   ]
  },
  {
   "cell_type": "code",
   "execution_count": 2,
   "metadata": {},
   "outputs": [
    {
     "name": "stdout",
     "output_type": "stream",
     "text": [
      "[[7 6 8]\n",
      " [7 4 6]\n",
      " [0 1 1]\n",
      " [2 2 3]]\n",
      "[[7 5 5]\n",
      " [1 8 9]\n",
      " [0 6 0]\n",
      " [6 3 9]]\n"
     ]
    }
   ],
   "source": [
    "a = np.random.randint(0,10,size=[4,3])\n",
    "b = np.random.randint(0,10,size=[4,3])\n",
    "print(a)\n",
    "print(b)"
   ]
  },
  {
   "cell_type": "code",
   "execution_count": 3,
   "metadata": {},
   "outputs": [
    {
     "name": "stdout",
     "output_type": "stream",
     "text": [
      "[[49 30 40]\n",
      " [ 7 32 54]\n",
      " [ 0  6  0]\n",
      " [12  6 27]]\n"
     ]
    }
   ],
   "source": [
    "c = (a*b)\n",
    "print(c)"
   ]
  },
  {
   "cell_type": "code",
   "execution_count": 4,
   "metadata": {},
   "outputs": [
    {
     "name": "stdout",
     "output_type": "stream",
     "text": [
      "[119  93   6  45]\n"
     ]
    }
   ],
   "source": [
    "c_sum_1 = c.sum(axis=1)\n",
    "print(c_sum_1)"
   ]
  },
  {
   "cell_type": "code",
   "execution_count": 5,
   "metadata": {},
   "outputs": [
    {
     "data": {
      "text/plain": [
       "array([ True,  True, False, False])"
      ]
     },
     "execution_count": 5,
     "metadata": {},
     "output_type": "execute_result"
    }
   ],
   "source": []
  },
  {
   "cell_type": "code",
   "execution_count": null,
   "metadata": {},
   "outputs": [],
   "source": []
  }
 ],
 "metadata": {
  "kernelspec": {
   "display_name": "Python 3.7.13 ('ndc')",
   "language": "python",
   "name": "python3"
  },
  "language_info": {
   "codemirror_mode": {
    "name": "ipython",
    "version": 3
   },
   "file_extension": ".py",
   "mimetype": "text/x-python",
   "name": "python",
   "nbconvert_exporter": "python",
   "pygments_lexer": "ipython3",
   "version": "3.7.13"
  },
  "orig_nbformat": 4,
  "vscode": {
   "interpreter": {
    "hash": "2dcfe38c0cac9f127117a4e549a9e3f5d8adafdfde3fda2c9b0223abbe460242"
   }
  }
 },
 "nbformat": 4,
 "nbformat_minor": 2
}
