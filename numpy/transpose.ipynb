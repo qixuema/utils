{
 "cells": [
  {
   "cell_type": "code",
   "execution_count": 1,
   "metadata": {},
   "outputs": [],
   "source": [
    "import numpy as np"
   ]
  },
  {
   "cell_type": "code",
   "execution_count": 2,
   "metadata": {},
   "outputs": [
    {
     "name": "stdout",
     "output_type": "stream",
     "text": [
      "[[[9 5 9]\n",
      "  [5 4 9]\n",
      "  [2 8 4]\n",
      "  [0 9 6]]\n",
      "\n",
      " [[2 6 3]\n",
      "  [7 5 1]\n",
      "  [2 8 2]\n",
      "  [8 1 2]]]\n",
      "[[[9 5 9]\n",
      "  [2 6 3]]\n",
      "\n",
      " [[5 4 9]\n",
      "  [7 5 1]]\n",
      "\n",
      " [[2 8 4]\n",
      "  [2 8 2]]\n",
      "\n",
      " [[0 9 6]\n",
      "  [8 1 2]]]\n"
     ]
    }
   ],
   "source": [
    "a = np.random.randint(0,10,size=[2,4,3])\n",
    "print(a)\n",
    "a1 = a.transpose(1,0,2)\n",
    "print(a1)"
   ]
  },
  {
   "cell_type": "code",
   "execution_count": null,
   "metadata": {},
   "outputs": [],
   "source": []
  }
 ],
 "metadata": {
  "kernelspec": {
   "display_name": "Python 3.7.13 ('ndc')",
   "language": "python",
   "name": "python3"
  },
  "language_info": {
   "codemirror_mode": {
    "name": "ipython",
    "version": 3
   },
   "file_extension": ".py",
   "mimetype": "text/x-python",
   "name": "python",
   "nbconvert_exporter": "python",
   "pygments_lexer": "ipython3",
   "version": "3.7.13"
  },
  "orig_nbformat": 4,
  "vscode": {
   "interpreter": {
    "hash": "2dcfe38c0cac9f127117a4e549a9e3f5d8adafdfde3fda2c9b0223abbe460242"
   }
  }
 },
 "nbformat": 4,
 "nbformat_minor": 2
}
