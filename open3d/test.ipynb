{
 "cells": [
  {
   "cell_type": "code",
   "execution_count": 6,
   "metadata": {},
   "outputs": [],
   "source": [
    "import open3d as o3d\n",
    "import multiprocessing as mp\n",
    "import numpy as np"
   ]
  },
  {
   "cell_type": "code",
   "execution_count": 3,
   "metadata": {},
   "outputs": [],
   "source": []
  },
  {
   "cell_type": "code",
   "execution_count": 10,
   "metadata": {},
   "outputs": [],
   "source": [
    "vertices = np.random.rand(100,3)\n",
    "# print(vertices)\n",
    "triangles = np.random.randint(0,10,size=(150,3))\n",
    "# print(triangles)\n",
    "vertices_normal = np.zeros_like(vertices)\n",
    "# print(vertices_normal)\n",
    "pcd = o3d.geometry.PointCloud()\n",
    "input_points = np.random.rand(100,6)\n",
    "# print(input_points)\n",
    "pcd.points = o3d.utility.Vector3dVector(input_points[:,0:3])\n",
    "pcd.normals = o3d.utility.Vector3dVector(input_points[:,3:6])\n"
   ]
  },
  {
   "cell_type": "code",
   "execution_count": null,
   "metadata": {},
   "outputs": [],
   "source": [
    "def compute_normal(pcd_tree, vertices, point_cloud_data,vertices_normal, ii,jj):\n",
    "    for i in range(ii,jj):    \n",
    "        # find 10 points that closed to point_temp\n",
    "        [k, idx, _] = pcd_tree.search_knn_vector_3d(vertices[i], 10)\n",
    "        # 然后利用KNN 计算每一个 vertex 周围 K 个点云的法向量\n",
    "        neighbor_normals = point_cloud_data.normals[idx]\n",
    "        # 对这K 个法向量进行取平均\n",
    "        mean_normal=neighbor_normals.mean(axis=0)\n",
    "        # 将平均值赋值给当前的vertex\n",
    "        vertices_normal[i]=mean_normal"
   ]
  },
  {
   "cell_type": "code",
   "execution_count": null,
   "metadata": {},
   "outputs": [],
   "source": [
    "def write_obj_triangle_with_normal(vertices, triangles, point_cloud_data):\n",
    "\n",
    "    vertices_normal = np.zeros_like(vertices)\n",
    "    # 在这里，我们把原始输入点云的法向量也放进来，\n",
    "    # point_cloud_data = o3d.io.read_point_cloud(input_points)\n",
    "    # 然后，我们把输入点云transform到和输入mesh同一个坐标系下（为什么这么做呢，因为逆过程不可知）\n",
    "    bb_min = point_cloud_data.points.min(axis=0)\n",
    "    point_cloud_data.points = (point_cloud_data.points - bb_min) * 10\n",
    "   # 然后，我们构建一个 KNN 树\n",
    "    pcd_tree = o3d.geometry.KDTreeFlann(point_cloud_data)\n",
    "    vertices_size = len(vertices)\n",
    "    for i in range(0, vertices_size):            \n",
    "            # find 10 points that closed to point_temp\n",
    "            [k, idx, _] = pcd_tree.search_knn_vector_3d(vertices[i], 10)\n",
    "            # 然后利用KNN 计算每一个 vertex 周围 K 个点云的法向量\n",
    "            neighbor_normals = point_cloud_data.normals[idx]\n",
    "            # 对这K 个法向量进行取平均\n",
    "            mean_normal=neighbor_normals.mean(axis=0)\n",
    "            # 将平均值赋值给当前的vertex\n",
    "            vertices_normal[i]=mean_normal\n",
    "         \n",
    "\n",
    "    num_cores = int(mp.cpu_count())\n",
    "    pool = mp.Pool(num_cores)\n",
    "    param_dict = {}\n",
    "    vertices_size_part = vertices_size/100\n",
    "    ii = 0 \n",
    "    for i in range (vertices_size_part):\n",
    "        jj = min(ii + 100, vertices_size)\n",
    "        pool.apply_async(compute_normal, args=(pcd_tree, vertices, point_cloud_data,vertices_normal, ii,jj))\n",
    "        ii += 100\n",
    "\n",
    "\n",
    "\n",
    "    \n",
    "    pool.close()\n",
    "    pool.join()\n",
    "    print('All subprocesses done.')\n",
    "\n",
    "    # 将 vn 写入到文件中\n",
    "    # fout = open(name, 'w')\n",
    "    # for ii in range(len(vertices)):\n",
    "    #     fout.write(\"vn \"+str(vertices_normal[ii,0])+\" \"+str(vertices_normal[ii,1])+\" \"+str(vertices_normal[ii,2])+\"\\n\")\n",
    "    #     fout.write(\"v \"+str(vertices[ii,0])+\" \"+str(vertices[ii,1])+\" \"+str(vertices[ii,2])+\"\\n\")\n",
    "    # for ii in range(len(triangles)):\n",
    "    #     fout.write(\"f \"+str(int(triangles[ii,0]+1))+\" \"+str(int(triangles[ii,1]+1))+\" \"+str(int(triangles[ii,2]+1))+\"\\n\")\n",
    "    # fout.close()"
   ]
  },
  {
   "cell_type": "code",
   "execution_count": 11,
   "metadata": {},
   "outputs": [
    {
     "ename": "AttributeError",
     "evalue": "'open3d.cpu.pybind.utility.Vector3dVector' object has no attribute 'min'",
     "output_type": "error",
     "traceback": [
      "\u001b[0;31m---------------------------------------------------------------------------\u001b[0m",
      "\u001b[0;31mAttributeError\u001b[0m                            Traceback (most recent call last)",
      "\u001b[0;32m/tmp/ipykernel_715/427709413.py\u001b[0m in \u001b[0;36m<module>\u001b[0;34m\u001b[0m\n\u001b[0;32m----> 1\u001b[0;31m \u001b[0mwrite_obj_triangle_with_normal\u001b[0m\u001b[0;34m(\u001b[0m\u001b[0mvertices\u001b[0m\u001b[0;34m,\u001b[0m\u001b[0mtriangles\u001b[0m\u001b[0;34m,\u001b[0m\u001b[0mpcd\u001b[0m\u001b[0;34m)\u001b[0m\u001b[0;34m\u001b[0m\u001b[0;34m\u001b[0m\u001b[0m\n\u001b[0m",
      "\u001b[0;32m/tmp/ipykernel_715/3962230227.py\u001b[0m in \u001b[0;36mwrite_obj_triangle_with_normal\u001b[0;34m(vertices, triangles, point_cloud_data)\u001b[0m\n\u001b[1;32m      5\u001b[0m     \u001b[0;31m# point_cloud_data = o3d.io.read_point_cloud(input_points)\u001b[0m\u001b[0;34m\u001b[0m\u001b[0;34m\u001b[0m\u001b[0;34m\u001b[0m\u001b[0m\n\u001b[1;32m      6\u001b[0m     \u001b[0;31m# 然后，我们把输入点云transform到和输入mesh同一个坐标系下（为什么这么做呢，因为逆过程不可知）\u001b[0m\u001b[0;34m\u001b[0m\u001b[0;34m\u001b[0m\u001b[0;34m\u001b[0m\u001b[0m\n\u001b[0;32m----> 7\u001b[0;31m     \u001b[0mbb_min\u001b[0m \u001b[0;34m=\u001b[0m \u001b[0mpoint_cloud_data\u001b[0m\u001b[0;34m.\u001b[0m\u001b[0mpoints\u001b[0m\u001b[0;34m.\u001b[0m\u001b[0mmin\u001b[0m\u001b[0;34m(\u001b[0m\u001b[0maxis\u001b[0m\u001b[0;34m=\u001b[0m\u001b[0;36m0\u001b[0m\u001b[0;34m)\u001b[0m\u001b[0;34m\u001b[0m\u001b[0;34m\u001b[0m\u001b[0m\n\u001b[0m\u001b[1;32m      8\u001b[0m     \u001b[0mpoint_cloud_data\u001b[0m\u001b[0;34m.\u001b[0m\u001b[0mpoints\u001b[0m \u001b[0;34m=\u001b[0m \u001b[0;34m(\u001b[0m\u001b[0mpoint_cloud_data\u001b[0m\u001b[0;34m.\u001b[0m\u001b[0mpoints\u001b[0m \u001b[0;34m-\u001b[0m \u001b[0mbb_min\u001b[0m\u001b[0;34m)\u001b[0m \u001b[0;34m*\u001b[0m \u001b[0;36m10\u001b[0m\u001b[0;34m\u001b[0m\u001b[0;34m\u001b[0m\u001b[0m\n\u001b[1;32m      9\u001b[0m    \u001b[0;31m# 然后，我们构建一个 KNN 树\u001b[0m\u001b[0;34m\u001b[0m\u001b[0;34m\u001b[0m\u001b[0;34m\u001b[0m\u001b[0m\n",
      "\u001b[0;31mAttributeError\u001b[0m: 'open3d.cpu.pybind.utility.Vector3dVector' object has no attribute 'min'"
     ]
    }
   ],
   "source": [
    "write_obj_triangle_with_normal(vertices,triangles,pcd)"
   ]
  }
 ],
 "metadata": {
  "kernelspec": {
   "display_name": "Python 3.7.13 ('ma')",
   "language": "python",
   "name": "python3"
  },
  "language_info": {
   "codemirror_mode": {
    "name": "ipython",
    "version": 3
   },
   "file_extension": ".py",
   "mimetype": "text/x-python",
   "name": "python",
   "nbconvert_exporter": "python",
   "pygments_lexer": "ipython3",
   "version": "3.7.13"
  },
  "orig_nbformat": 4,
  "vscode": {
   "interpreter": {
    "hash": "dddda052fc84d0ec959437bc34cb8da7e61558825bfbf38c798e858e2fbeb909"
   }
  }
 },
 "nbformat": 4,
 "nbformat_minor": 2
}
