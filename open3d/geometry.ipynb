{
 "cells": [
  {
   "cell_type": "code",
   "execution_count": 3,
   "metadata": {},
   "outputs": [],
   "source": [
    "import open3d as o3d\n",
    "import numpy as np"
   ]
  },
  {
   "cell_type": "code",
   "execution_count": 11,
   "metadata": {},
   "outputs": [
    {
     "name": "stdout",
     "output_type": "stream",
     "text": [
      "[[0.50348543 0.63279785 0.20850751]\n",
      " [0.82316423 0.37253508 0.41177949]\n",
      " [0.55207128 0.85696691 0.30037101]\n",
      " [0.10151875 0.75224569 0.94309483]\n",
      " [0.74296292 0.26605337 0.51870945]\n",
      " [0.68956341 0.31291012 0.41128918]\n",
      " [0.31372412 0.04383282 0.08599986]\n",
      " [0.56189541 0.29372123 0.28081159]\n",
      " [0.34740664 0.22887141 0.02073454]\n",
      " [0.64954262 0.22462563 0.4359648 ]]\n",
      "[[5 4 2]\n",
      " [9 0 0]\n",
      " [4 6 2]\n",
      " [7 9 0]\n",
      " [5 1 2]\n",
      " [9 7 3]\n",
      " [0 7 6]\n",
      " [3 0 0]\n",
      " [9 2 9]\n",
      " [5 0 5]\n",
      " [5 3 7]\n",
      " [7 9 5]\n",
      " [3 3 9]\n",
      " [1 1 0]\n",
      " [5 1 5]\n",
      " [5 8 6]\n",
      " [2 6 8]\n",
      " [9 1 5]\n",
      " [2 1 8]\n",
      " [4 4 4]]\n"
     ]
    }
   ],
   "source": [
    "vertices = np.random.rand(10,3)\n",
    "print(vertices)\n",
    "trianles = np.random.randint(0,10,size=(20,3))\n",
    "print(trianles)"
   ]
  },
  {
   "cell_type": "code",
   "execution_count": 13,
   "metadata": {},
   "outputs": [
    {
     "name": "stdout",
     "output_type": "stream",
     "text": [
      "[[0. 0. 0.]\n",
      " [0. 0. 0.]\n",
      " [0. 0. 0.]\n",
      " [0. 0. 0.]\n",
      " [0. 0. 0.]\n",
      " [0. 0. 0.]\n",
      " [0. 0. 0.]\n",
      " [0. 0. 0.]\n",
      " [0. 0. 0.]\n",
      " [0. 0. 0.]]\n"
     ]
    }
   ],
   "source": [
    "vertices_normal = np.zeros_like(vertices)\n",
    "print(vertices_normal)"
   ]
  },
  {
   "cell_type": "code",
   "execution_count": 14,
   "metadata": {},
   "outputs": [
    {
     "name": "stdout",
     "output_type": "stream",
     "text": [
      "[[0 2 1]\n",
      " [2 0 2]\n",
      " [0 0 0]\n",
      " [1 1 2]]\n"
     ]
    }
   ],
   "source": [
    "vertices_tmp = np.random.randint(3,size=(4,3))\n",
    "print(vertices_tmp)"
   ]
  },
  {
   "cell_type": "code",
   "execution_count": 18,
   "metadata": {},
   "outputs": [
    {
     "name": "stdout",
     "output_type": "stream",
     "text": [
      "[1.         1.         1.66666667]\n"
     ]
    }
   ],
   "source": [
    "vertices_tmp_sum = vertices_tmp.sum(axis=0) / 3\n",
    "print(vertices_tmp_sum)"
   ]
  },
  {
   "cell_type": "code",
   "execution_count": 19,
   "metadata": {},
   "outputs": [],
   "source": [
    "vertices_normal[1] = vertices_tmp_sum"
   ]
  },
  {
   "cell_type": "code",
   "execution_count": 20,
   "metadata": {},
   "outputs": [
    {
     "data": {
      "text/plain": [
       "array([[0.        , 0.        , 0.        ],\n",
       "       [1.        , 1.        , 1.66666667],\n",
       "       [0.        , 0.        , 0.        ],\n",
       "       [0.        , 0.        , 0.        ],\n",
       "       [0.        , 0.        , 0.        ],\n",
       "       [0.        , 0.        , 0.        ],\n",
       "       [0.        , 0.        , 0.        ],\n",
       "       [0.        , 0.        , 0.        ],\n",
       "       [0.        , 0.        , 0.        ],\n",
       "       [0.        , 0.        , 0.        ]])"
      ]
     },
     "execution_count": 20,
     "metadata": {},
     "output_type": "execute_result"
    }
   ],
   "source": [
    "vertices_normal"
   ]
  },
  {
   "cell_type": "code",
   "execution_count": 21,
   "metadata": {},
   "outputs": [
    {
     "data": {
      "text/plain": [
       "array([1.        , 1.        , 1.66666667])"
      ]
     },
     "execution_count": 21,
     "metadata": {},
     "output_type": "execute_result"
    }
   ],
   "source": [
    "vertices_normal.ptp(axis=0) # Peak to peak"
   ]
  },
  {
   "cell_type": "code",
   "execution_count": 22,
   "metadata": {},
   "outputs": [
    {
     "data": {
      "text/plain": [
       "array([2, 2, 2])"
      ]
     },
     "execution_count": 22,
     "metadata": {},
     "output_type": "execute_result"
    }
   ],
   "source": [
    "vertices_tmp.ptp(axis=0)"
   ]
  },
  {
   "cell_type": "code",
   "execution_count": null,
   "metadata": {},
   "outputs": [],
   "source": []
  }
 ],
 "metadata": {
  "kernelspec": {
   "display_name": "Python 3.7.13 ('ma')",
   "language": "python",
   "name": "python3"
  },
  "language_info": {
   "codemirror_mode": {
    "name": "ipython",
    "version": 3
   },
   "file_extension": ".py",
   "mimetype": "text/x-python",
   "name": "python",
   "nbconvert_exporter": "python",
   "pygments_lexer": "ipython3",
   "version": "3.7.13"
  },
  "orig_nbformat": 4,
  "vscode": {
   "interpreter": {
    "hash": "dddda052fc84d0ec959437bc34cb8da7e61558825bfbf38c798e858e2fbeb909"
   }
  }
 },
 "nbformat": 4,
 "nbformat_minor": 2
}
