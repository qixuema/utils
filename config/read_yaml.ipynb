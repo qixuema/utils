{
 "cells": [
  {
   "cell_type": "code",
   "execution_count": null,
   "metadata": {},
   "outputs": [],
   "source": [
    "from yacs.config import CfgNode as CN"
   ]
  },
  {
   "cell_type": "code",
   "execution_count": null,
   "metadata": {},
   "outputs": [],
   "source": [
    "from yacs.config import CfgNode as CN\n",
    "__C = CN()\n",
    "__C.name = 'test'\n",
    "__C.model = CN()  # 嵌套使用\n",
    "__C.model.backbone = 'resnet'\n",
    "__C.model.depth = 18\n",
    "\n",
    "print(__C)  \n",
    "'''\n",
    "  name: test\n",
    "  model:\n",
    "      backbone: resnet\n",
    "      depth: 18\n",
    "'''"
   ]
  },
  {
   "cell_type": "code",
   "execution_count": null,
   "metadata": {},
   "outputs": [],
   "source": [
    "'''\n",
    "1. clone()\n",
    "return a copy config file, so the defaults will not be altered\n",
    "'''\n",
    "def get_cfg_defaults():\n",
    "\treturn __C.clone()"
   ]
  },
  {
   "cell_type": "code",
   "execution_count": null,
   "metadata": {},
   "outputs": [],
   "source": [
    "'''\n",
    "2. clear()\n",
    "clear your config file, you will get None as the result\n",
    "'''\n",
    "print(__C.clear())  # None"
   ]
  },
  {
   "cell_type": "code",
   "execution_count": null,
   "metadata": {},
   "outputs": [],
   "source": [
    "'''\n",
    "3. merge_from_file()\n",
    "对于不同的实验，你有不同的超参设置，所以你可以使用yaml文件来管理不同的configs，然后使用merge_from_file()这个方法，这个会比较每个experiments特有的config和默认参数的区别，会将默认参数与特定参数不同的部分，用特定参数覆盖。\n",
    "'''\n",
    "\n",
    "__C.merge_from_file(\"./test_config.yaml\")\n",
    "\n",
    "'''\n",
    "Addition:\n",
    "\n",
    "你需要merge的yaml文件中，不能有default参数中不存在的参数，不然会报错，但是可以比default中设定的参数少，比如default文件中有name参数，这是不需要特定改动的，你可以在yaml中不设置name这个key。\n",
    "'''\n",
    "from yacs.config import CfgNode as CN\n",
    "# default cfgs\n",
    "__C = CN()\n",
    "__C.name = 'test'\n",
    "__C.model = CN()\n",
    "__C.model.backbone = 'resnet'\n",
    "__C.model.depth = 18\n",
    "\n",
    "'''\n",
    "# yaml cfgs\n",
    "# 不报错的情况1：参数和default中一样多，并且层级关系一致\n",
    "name: test\n",
    "model:\n",
    "    backbone: resnet\n",
    "    depth: 18\n",
    "\n",
    "# 不报错的情况2：参数可以比default中少，以下例子就不包含name和model.backbone\n",
    "model: \n",
    "    depth: 34\n",
    "\n",
    "# 报错的情况1：以下多了model.batch_normalization这个额外的key，这在default中是不存在的\n",
    "name: test\n",
    "model:\n",
    "    backbone: resnet\n",
    "    depth: 29\n",
    "    batch_normalization: True\n",
    "\n",
    "# 报错的情况2：关键词不一致，这里的关键词是na_me，而default中是name\n",
    "na_me: test\n",
    "'''\n"
   ]
  },
  {
   "cell_type": "code",
   "execution_count": null,
   "metadata": {},
   "outputs": [],
   "source": [
    "'''\n",
    "4. merge_from_list()\n",
    "可以用list来传递参数\n",
    "'''\n",
    "from yacs.config import CfgNode as CN\n",
    "__C = CN()\n",
    "__C.name = 'test'\n",
    "__C.model = CN()\n",
    "__C.model.backbone = 'resnet'\n",
    "__C.model.depth = 18\n",
    "print(__C)\n",
    "'''\n",
    "model:\n",
    "  backbone: resnet\n",
    "  depth: 18\n",
    "name: test\n",
    "'''\n",
    "\n",
    "opts = [\"name\", 'test_name', \"model.backbone\", \"vgg\"]\n",
    "__C.merge_from_list(opts)\n",
    "print(__C)\n",
    "'''\n",
    "model:\n",
    "  backbone: vgg\n",
    "  depth: 18\n",
    "name: test_name\n",
    "'''"
   ]
  },
  {
   "cell_type": "code",
   "execution_count": null,
   "metadata": {},
   "outputs": [],
   "source": [
    "'''\n",
    "5. merge_from_other_cfg()\n",
    "the same as merge_from_file and merge_from_list, the only difference is that the merged file is also a CfgNode class\n",
    "'''"
   ]
  },
  {
   "cell_type": "code",
   "execution_count": null,
   "metadata": {},
   "outputs": [],
   "source": [
    "'''\n",
    "6. freeze()\n",
    "freeze the configs, and you can not change the value after this operation\n",
    "'''\n",
    "from yacs.config import CfgNode as CN\n",
    "__C = CN()\n",
    "__C.name = 'test'\n",
    "__C.model = CN()\n",
    "__C.model.backbone = 'resnet'\n",
    "__C.model.depth = 18\n",
    "\n",
    "# freeze the config\n",
    "__C.freeze()\n",
    "# try to change the name's value, raise an error\n",
    "__C.name = 'test2'  # error"
   ]
  },
  {
   "cell_type": "code",
   "execution_count": null,
   "metadata": {},
   "outputs": [],
   "source": [
    "'''\n",
    "7. defrost()\n",
    "reverse operation of freeze()\n",
    "'''\n",
    "from yacs.config import CfgNode as CN\n",
    "__C = CN()\n",
    "__C.name = 'test'\n",
    "__C.model = CN()\n",
    "__C.model.backbone = 'resnet'\n",
    "__C.model.depth = 18\n",
    "\n",
    "# freeze the config\n",
    "__C.freeze()\n",
    "# try to change the name's value, raise an error\n",
    "__C.name = 'test2'  # error\n",
    "\n",
    "__C.defrost()  # not freeze cfgs, after this operation you can change the value\n",
    "__C.name = 'test2'  # work\n"
   ]
  },
  {
   "cell_type": "code",
   "execution_count": null,
   "metadata": {},
   "outputs": [],
   "source": []
  }
 ],
 "metadata": {
  "kernelspec": {
   "display_name": "Python 3.7.0 ('ma')",
   "language": "python",
   "name": "python3"
  },
  "language_info": {
   "codemirror_mode": {
    "name": "ipython",
    "version": 3
   },
   "file_extension": ".py",
   "mimetype": "text/x-python",
   "name": "python",
   "nbconvert_exporter": "python",
   "pygments_lexer": "ipython3",
   "version": "3.7.0"
  },
  "orig_nbformat": 4,
  "vscode": {
   "interpreter": {
    "hash": "726f61da280e222e219e726f061d5e60f77261e29abc9c75fced1365e0fa4de8"
   }
  }
 },
 "nbformat": 4,
 "nbformat_minor": 2
}
